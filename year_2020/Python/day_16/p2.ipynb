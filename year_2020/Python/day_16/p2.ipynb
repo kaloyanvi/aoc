{
 "metadata": {
  "language_info": {
   "codemirror_mode": {
    "name": "ipython",
    "version": 3
   },
   "file_extension": ".py",
   "mimetype": "text/x-python",
   "name": "python",
   "nbconvert_exporter": "python",
   "pygments_lexer": "ipython3",
   "version": "3.8.6-final"
  },
  "orig_nbformat": 2,
  "kernelspec": {
   "name": "python3",
   "display_name": "Python 3",
   "language": "python"
  }
 },
 "nbformat": 4,
 "nbformat_minor": 2,
 "cells": [
  {
   "cell_type": "code",
   "execution_count": 1,
   "metadata": {},
   "outputs": [],
   "source": [
    "import numpy as np\n",
    "from itertools import permutations\n",
    "from tqdm import tqdm\n",
    "import itertools"
   ]
  },
  {
   "cell_type": "code",
   "execution_count": 2,
   "metadata": {},
   "outputs": [],
   "source": [
    "def checkConstraints(value, constraints):\n",
    "    \n",
    "    for constraint in constraints:\n",
    "        if value in constraints[constraint][0] or value in constraints[constraint][1]:\n",
    "            return True\n",
    "    return False  # didnt pass any of the constraints"
   ]
  },
  {
   "cell_type": "code",
   "execution_count": 3,
   "metadata": {},
   "outputs": [],
   "source": [
    "def checkOrder(constraints, ticket):  # and again by the order of the Peaky Blinders xDD\n",
    "\n",
    "    pbar = tqdm(total=value-1)\n",
    "    element_orders = []\n",
    "    for possible_order in permutations(constraints):\n",
    "        check_order = []\n",
    "        for order_element in list(possible_order):\n",
    "            for value in ticket:\n",
    "                if value in constraints[order_element][0] or value in constraints[order_element][1]:\n",
    "                    check_order.append(\"MATCH\")\n",
    "                else:\n",
    "                    check_order.append(\"NOT MATCH\")\n",
    "        shape = (len(constraints),len(constraints))\n",
    "        check = np.diag(np.array(check_order).reshape(shape))\n",
    "        \n",
    "        if np.all(check[0] == check):  # all elements are the same\n",
    "            element_orders.append(possible_order)\n",
    "    return element_orders\n",
    "     "
   ]
  },
  {
   "cell_type": "code",
   "execution_count": 4,
   "metadata": {},
   "outputs": [],
   "source": [
    "def checkValid(tickets, constraints):\n",
    "\n",
    "    valid_tickets = []\n",
    "\n",
    "    for ticket in tickets:\n",
    "        for value in ticket:\n",
    "            if checkConstraints(value, constraints):\n",
    "                continue\n",
    "            else:\n",
    "                break\n",
    "\n",
    "        else:  # only executed if the inner loop did NOT break\n",
    "            valid_tickets.append(ticket)\n",
    "    return valid_tickets\n"
   ]
  },
  {
   "cell_type": "code",
   "execution_count": 5,
   "metadata": {},
   "outputs": [],
   "source": [
    "def findOrder(valid_tickets, constraints):  # by the order of the peaky blinders xD\n",
    "    orders = []\n",
    "    for ticket in valid_tickets:\n",
    "        print(ticket)\n",
    "        correct_order = checkOrder(constraints, ticket)\n",
    "        orders.append(correct_order)\n",
    "        return correct_order\n"
   ]
  },
  {
   "cell_type": "code",
   "execution_count": 6,
   "metadata": {},
   "outputs": [],
   "source": [
    "with open('input.txt') as f:\n",
    "    all_lines = [line.strip() for line in f.readlines()]\n",
    "\n",
    "    constraint_names = [str([i for i in constraint.split(\": \")][0]) for constraint in all_lines[:20]]\n",
    "    constraint_ranges = [[range(int(condition[0]), int(condition[1])) for condition in [val.split(\"-\") for val in [i for i in constraint.split(\": \")][1].split(\" or \")]] for constraint in all_lines[:20]]\n",
    "    constraints = dict(zip(constraint_names, constraint_ranges))\n",
    "    \n",
    "    my_ticket = [int(val) for val in all_lines[22:23][0].split(\",\")]\n",
    "    nearby_tickets = [[int(val) for val in ticket.split(\",\")] for ticket in all_lines[25:]]\n",
    "    valid_tickets = checkValid(nearby_tickets, constraints)\n",
    "\n",
    "    #correct_order = findOrder(valid_tickets, constraints)"
   ]
  },
  {
   "cell_type": "code",
   "execution_count": 7,
   "metadata": {},
   "outputs": [
    {
     "output_type": "stream",
     "name": "stdout",
     "text": [
      "[7, 3, 47]\n"
     ]
    },
    {
     "output_type": "error",
     "ename": "UnboundLocalError",
     "evalue": "local variable 'value' referenced before assignment",
     "traceback": [
      "\u001b[0;31m---------------------------------------------------------------------------\u001b[0m",
      "\u001b[0;31mUnboundLocalError\u001b[0m                         Traceback (most recent call last)",
      "\u001b[0;32m<ipython-input-7-4384ab79f994>\u001b[0m in \u001b[0;36m<module>\u001b[0;34m\u001b[0m\n\u001b[1;32m     11\u001b[0m     \u001b[0mvalid_tickets\u001b[0m \u001b[0;34m=\u001b[0m \u001b[0mcheckValid\u001b[0m\u001b[0;34m(\u001b[0m\u001b[0mnearby_tickets\u001b[0m\u001b[0;34m,\u001b[0m \u001b[0mconstraints\u001b[0m\u001b[0;34m)\u001b[0m\u001b[0;34m\u001b[0m\u001b[0;34m\u001b[0m\u001b[0m\n\u001b[1;32m     12\u001b[0m \u001b[0;34m\u001b[0m\u001b[0m\n\u001b[0;32m---> 13\u001b[0;31m     \u001b[0mcorrect_order\u001b[0m \u001b[0;34m=\u001b[0m \u001b[0mfindOrder\u001b[0m\u001b[0;34m(\u001b[0m\u001b[0mvalid_tickets\u001b[0m\u001b[0;34m,\u001b[0m \u001b[0mconstraints\u001b[0m\u001b[0;34m)\u001b[0m\u001b[0;34m\u001b[0m\u001b[0;34m\u001b[0m\u001b[0m\n\u001b[0m\u001b[1;32m     14\u001b[0m \u001b[0;34m\u001b[0m\u001b[0m\n",
      "\u001b[0;32m<ipython-input-5-ca9fd7f029aa>\u001b[0m in \u001b[0;36mfindOrder\u001b[0;34m(valid_tickets, constraints)\u001b[0m\n\u001b[1;32m      3\u001b[0m     \u001b[0;32mfor\u001b[0m \u001b[0mticket\u001b[0m \u001b[0;32min\u001b[0m \u001b[0mvalid_tickets\u001b[0m\u001b[0;34m:\u001b[0m\u001b[0;34m\u001b[0m\u001b[0;34m\u001b[0m\u001b[0m\n\u001b[1;32m      4\u001b[0m         \u001b[0mprint\u001b[0m\u001b[0;34m(\u001b[0m\u001b[0mticket\u001b[0m\u001b[0;34m)\u001b[0m\u001b[0;34m\u001b[0m\u001b[0;34m\u001b[0m\u001b[0m\n\u001b[0;32m----> 5\u001b[0;31m         \u001b[0mcorrect_order\u001b[0m \u001b[0;34m=\u001b[0m \u001b[0mcheckOrder\u001b[0m\u001b[0;34m(\u001b[0m\u001b[0mconstraints\u001b[0m\u001b[0;34m,\u001b[0m \u001b[0mticket\u001b[0m\u001b[0;34m)\u001b[0m\u001b[0;34m\u001b[0m\u001b[0;34m\u001b[0m\u001b[0m\n\u001b[0m\u001b[1;32m      6\u001b[0m         \u001b[0morders\u001b[0m\u001b[0;34m.\u001b[0m\u001b[0mappend\u001b[0m\u001b[0;34m(\u001b[0m\u001b[0mcorrect_order\u001b[0m\u001b[0;34m)\u001b[0m\u001b[0;34m\u001b[0m\u001b[0;34m\u001b[0m\u001b[0m\n\u001b[1;32m      7\u001b[0m         \u001b[0;32mreturn\u001b[0m \u001b[0mcorrect_order\u001b[0m\u001b[0;34m\u001b[0m\u001b[0;34m\u001b[0m\u001b[0m\n",
      "\u001b[0;32m<ipython-input-3-fd5d253f2342>\u001b[0m in \u001b[0;36mcheckOrder\u001b[0;34m(constraints, ticket)\u001b[0m\n\u001b[1;32m      1\u001b[0m \u001b[0;32mdef\u001b[0m \u001b[0mcheckOrder\u001b[0m\u001b[0;34m(\u001b[0m\u001b[0mconstraints\u001b[0m\u001b[0;34m,\u001b[0m \u001b[0mticket\u001b[0m\u001b[0;34m)\u001b[0m\u001b[0;34m:\u001b[0m  \u001b[0;31m# and again by the order of the Peaky Blinders xDD\u001b[0m\u001b[0;34m\u001b[0m\u001b[0;34m\u001b[0m\u001b[0m\n\u001b[1;32m      2\u001b[0m \u001b[0;34m\u001b[0m\u001b[0m\n\u001b[0;32m----> 3\u001b[0;31m     \u001b[0mpbar\u001b[0m \u001b[0;34m=\u001b[0m \u001b[0mtqdm\u001b[0m\u001b[0;34m(\u001b[0m\u001b[0mtotal\u001b[0m\u001b[0;34m=\u001b[0m\u001b[0mvalue\u001b[0m\u001b[0;34m-\u001b[0m\u001b[0;36m1\u001b[0m\u001b[0;34m)\u001b[0m\u001b[0;34m\u001b[0m\u001b[0;34m\u001b[0m\u001b[0m\n\u001b[0m\u001b[1;32m      4\u001b[0m     \u001b[0melement_orders\u001b[0m \u001b[0;34m=\u001b[0m \u001b[0;34m[\u001b[0m\u001b[0;34m]\u001b[0m\u001b[0;34m\u001b[0m\u001b[0;34m\u001b[0m\u001b[0m\n\u001b[1;32m      5\u001b[0m     \u001b[0;32mfor\u001b[0m \u001b[0mpossible_order\u001b[0m \u001b[0;32min\u001b[0m \u001b[0mpermutations\u001b[0m\u001b[0;34m(\u001b[0m\u001b[0mconstraints\u001b[0m\u001b[0;34m)\u001b[0m\u001b[0;34m:\u001b[0m\u001b[0;34m\u001b[0m\u001b[0;34m\u001b[0m\u001b[0m\n",
      "\u001b[0;31mUnboundLocalError\u001b[0m: local variable 'value' referenced before assignment"
     ]
    }
   ],
   "source": [
    "with open('test_input.txt') as f:\n",
    "    all_lines = [line.strip() for line in f.readlines()]\n",
    "\n",
    "    constraint_names = [str([i for i in constraint.split(\": \")][0]) for constraint in all_lines[:3]]\n",
    "    constraint_ranges = [[range(int(condition[0]), int(condition[1])+ 1) for condition in [val.split(\"-\") for val in [i for i in constraint.split(\": \")][1].split(\" or \")]] for constraint in all_lines[:3]]\n",
    "    constraints = dict(zip(constraint_names, constraint_ranges))\n",
    "    \n",
    "    \n",
    "    my_ticket = [int(val) for val in all_lines[5:6][0].split(\",\")]\n",
    "    nearby_tickets = [[int(val) for val in ticket.split(\",\")] for ticket in all_lines[8:]]\n",
    "    valid_tickets = checkValid(nearby_tickets, constraints)\n",
    "    \n",
    "    correct_order = findOrder(valid_tickets, constraints)\n",
    "    "
   ]
  },
  {
   "cell_type": "code",
   "execution_count": 111,
   "metadata": {},
   "outputs": [],
   "source": [
    "def innerShuffle(valid_tickets, constraints, adj_constraints):\n",
    "\n",
    "    #print(\"\\n\\tBegin innerShuffle\")\n",
    "    all_arrays = []  # will become multidimensional list\n",
    "    \n",
    "    #print(\"\\tAdj Constraints:\", adj_constraints)\n",
    "    #print(\"\\n\\t Tickets loop\")\n",
    "    for ticket in valid_tickets:\n",
    "        #print(\"\\t Ticket:\", ticket)\n",
    "        # list with all constraints if they are satiefied, otherwise 0 for constraints that are not \n",
    "        tmp_array = [key_c  if val in constraints[key_c][0] or val in constraints[key_c][1] else 0 for key_c, val in zip(adj_constraints, ticket)]\n",
    "        #print(\"\\tConstraints & Ticket:\\n\\t\\t\", tmp_array)\n",
    "        all_arrays.append(tmp_array)  # adding each list\n",
    "    #print(\"\\n\\t Out of ticket loop.\")\n",
    "    shuffle_elem=[]\n",
    "    shuffle_ind=[]\n",
    "    all_arrays=np.array(all_arrays)\n",
    "    bool_cols = np.all(all_arrays == all_arrays[0,:], axis = 0)  # true values for all cols that are same\n",
    "    #print(\"\\n\\tTrue columns:\", bool_cols)\n",
    "    \n",
    "    #print(\"\\n\\tBool Loop\")\n",
    "    shuffle_sorted = []\n",
    "    for ind,val in enumerate(bool_cols):\n",
    "\n",
    "        adj_c= adj_constraints  # ?\n",
    "        #print(\"\\tBool value:\", val)\n",
    "        if val == True:\n",
    "            #print(\"\\tAdding to shuffle_sort:\", adj_c[ind])\n",
    "            shuffle_sorted.append(adj_c[ind])  # adding the element\n",
    "\n",
    "        else: # False\n",
    "            #print(adj_c)\n",
    "            #print(\"\\tAdding to shuffle_sort:\", adj_c[ind])\n",
    "            shuffle_sorted.append(adj_c[ind])  # adding the element\n",
    "\n",
    "            shuffle_elem.append(adj_c[ind])\n",
    "            shuffle_ind.append(ind)  # saving the index of the non matching ones\n",
    "        \n",
    "        #print(\"\\n\\n InnerShuffle wrong index:\", shuffle_ind)\n",
    "    \n",
    "    return shuffle_sorted, shuffle_elem, shuffle_ind, bool_cols"
   ]
  },
  {
   "cell_type": "code",
   "execution_count": 127,
   "metadata": {},
   "outputs": [],
   "source": [
    "def shuffleSort(valid_tickets, constraints):\n",
    "\n",
    "    shuffleSorted = False\n",
    "\n",
    "    #constraints = [i for i in constraints.keys()]\n",
    "    adj_constraints = list(constraints.keys())  # starting order of constraints\n",
    "\n",
    "    while shuffleSorted == False:\n",
    "        # print(\"Main Loop Starts\\n\\n\")\n",
    "        # print(\"Initializing innerShuffle.\")\n",
    "        shuffle_sorted = innerShuffle(valid_tickets, constraints, adj_constraints)\n",
    "        # print(\"\\nFinished innerShuffle.\")\n",
    "        # print(\"\\n Wrong index\", shuffle_sorted[2])\n",
    "        # print(\"\\n shuffle_sorted:\", shuffle_sorted[1])\n",
    "\n",
    "        combs = list(itertools.product(shuffle_sorted[2], shuffle_sorted[1]))\n",
    "        \n",
    "        print(\"\\n Combinations loop\")\n",
    "        for comb in combs:\n",
    "            print(\"\\n\\tCombination:\",comb)\n",
    "            #print(shuffle_sorted[0])\n",
    "            shuffle_sorted[0][comb[0]] = comb[1]\n",
    "            print(\"\\n\\tSo far:\",shuffle_sorted[1])\n",
    "            print(\"\\n\\tWrong:\", len(shuffle_sorted[2]))\n",
    "            shuffle_sorted = innerShuffle(valid_tickets, constraints, shuffle_sorted[0])\n",
    "\n",
    "            if len(shuffle_sorted[2]) == 0:\n",
    "                return shuffle_sorted\n",
    "            #print(shuffle_sorted[3])\n",
    "            #break\n",
    "        print(shuffle_sorted)\n",
    "        break\n",
    "\n"
   ]
  },
  {
   "cell_type": "code",
   "execution_count": 128,
   "metadata": {
    "tags": []
   },
   "outputs": [
    {
     "output_type": "stream",
     "name": "stdout",
     "text": [
      "\n Combinations loop\n\n\tCombination: (0, 'departure location')\n\n\tSo far: ['departure location', 'departure date', 'arrival location', 'arrival station', 'arrival platform', 'duration', 'price', 'type', 'zone']\n\n\tWrong: 9\n\n\tCombination: (0, 'departure date')\n\n\tSo far: ['departure location', 'departure date', 'arrival location', 'arrival station', 'arrival platform', 'duration', 'price', 'type', 'zone']\n\n\tWrong: 9\n\n\tCombination: (0, 'arrival location')\n\n\tSo far: ['departure date', 'departure date', 'arrival location', 'arrival station', 'arrival platform', 'duration', 'price', 'type', 'zone']\n\n\tWrong: 9\n\n\tCombination: (0, 'arrival station')\n\n\tSo far: ['arrival location', 'departure date', 'arrival location', 'arrival station', 'arrival platform', 'duration', 'price', 'type', 'zone']\n\n\tWrong: 9\n\n\tCombination: (0, 'arrival platform')\n\n\tSo far: ['arrival station', 'departure date', 'arrival location', 'arrival station', 'arrival platform', 'duration', 'price', 'type', 'zone']\n\n\tWrong: 9\n\n\tCombination: (0, 'duration')\n\n\tSo far: ['arrival platform', 'departure date', 'arrival location', 'arrival station', 'arrival platform', 'duration', 'price', 'type', 'zone']\n\n\tWrong: 9\n\n\tCombination: (0, 'price')\n\n\tSo far: ['duration', 'departure date', 'arrival location', 'arrival station', 'arrival platform', 'duration', 'price', 'type', 'zone']\n\n\tWrong: 9\n\n\tCombination: (0, 'type')\n\n\tSo far: ['price', 'departure date', 'arrival location', 'arrival station', 'arrival platform', 'duration', 'price', 'type', 'zone']\n\n\tWrong: 9\n\n\tCombination: (0, 'zone')\n\n\tSo far: ['type', 'departure date', 'arrival location', 'arrival station', 'arrival platform', 'duration', 'price', 'type', 'zone']\n\n\tWrong: 9\n\n\tCombination: (4, 'departure location')\n\n\tSo far: ['zone', 'departure date', 'arrival location', 'arrival station', 'arrival platform', 'duration', 'price', 'type', 'zone']\n\n\tWrong: 9\n\n\tCombination: (4, 'departure date')\n\n\tSo far: ['zone', 'departure location', 'arrival location', 'arrival station', 'arrival platform', 'duration', 'price', 'type', 'zone']\n\n\tWrong: 9\n\n\tCombination: (4, 'arrival location')\n\n\tSo far: ['zone', 'departure date', 'arrival location', 'arrival station', 'arrival platform', 'duration', 'price', 'type', 'zone']\n\n\tWrong: 9\n\n\tCombination: (4, 'arrival station')\n\n\tSo far: ['zone', 'arrival location', 'arrival location', 'arrival station', 'arrival platform', 'duration', 'price', 'type', 'zone']\n\n\tWrong: 9\n\n\tCombination: (4, 'arrival platform')\n\n\tSo far: ['zone', 'arrival station', 'arrival location', 'arrival station', 'arrival platform', 'duration', 'price', 'type', 'zone']\n\n\tWrong: 9\n\n\tCombination: (4, 'duration')\n\n\tSo far: ['zone', 'arrival location', 'arrival station', 'arrival platform', 'duration', 'price', 'type', 'zone']\n\n\tWrong: 8\n\n\tCombination: (4, 'price')\n\n\tSo far: ['zone', 'duration', 'arrival location', 'arrival station', 'arrival platform', 'duration', 'price', 'type', 'zone']\n\n\tWrong: 9\n\n\tCombination: (4, 'type')\n\n\tSo far: ['zone', 'price', 'arrival location', 'arrival station', 'arrival platform', 'duration', 'price', 'type', 'zone']\n\n\tWrong: 9\n\n\tCombination: (4, 'zone')\n\n\tSo far: ['zone', 'type', 'arrival location', 'arrival station', 'arrival platform', 'duration', 'price', 'type', 'zone']\n\n\tWrong: 9\n\n\tCombination: (6, 'departure location')\n\n\tSo far: ['zone', 'zone', 'arrival location', 'arrival station', 'arrival platform', 'duration', 'price', 'type', 'zone']\n\n\tWrong: 9\n\n\tCombination: (6, 'departure date')\n\n\tSo far: ['zone', 'zone', 'departure location', 'arrival station', 'arrival platform', 'duration', 'price', 'type', 'zone']\n\n\tWrong: 9\n\n\tCombination: (6, 'arrival location')\n\n\tSo far: ['zone', 'zone', 'departure date', 'arrival station', 'arrival platform', 'duration', 'price', 'type', 'zone']\n\n\tWrong: 9\n\n\tCombination: (6, 'arrival station')\n\n\tSo far: ['zone', 'zone', 'arrival location', 'arrival station', 'arrival platform', 'duration', 'price', 'type', 'zone']\n\n\tWrong: 9\n\n\tCombination: (6, 'arrival platform')\n\n\tSo far: ['zone', 'zone', 'arrival station', 'arrival station', 'arrival platform', 'duration', 'price', 'type', 'zone']\n\n\tWrong: 9\n\n\tCombination: (6, 'duration')\n\n\tSo far: ['zone', 'zone', 'arrival platform', 'arrival station', 'arrival platform', 'duration', 'price', 'type', 'zone']\n\n\tWrong: 9\n\n\tCombination: (6, 'price')\n\n\tSo far: ['zone', 'zone', 'duration', 'arrival station', 'arrival platform', 'duration', 'price', 'type', 'zone']\n\n\tWrong: 9\n\n\tCombination: (6, 'type')\n\n\tSo far: ['zone', 'zone', 'price', 'arrival station', 'arrival platform', 'duration', 'price', 'type', 'zone']\n\n\tWrong: 9\n\n\tCombination: (6, 'zone')\n\n\tSo far: ['zone', 'zone', 'type', 'arrival station', 'arrival platform', 'duration', 'price', 'type', 'zone']\n\n\tWrong: 9\n\n\tCombination: (7, 'departure location')\n\n\tSo far: ['zone', 'zone', 'zone', 'arrival station', 'arrival platform', 'duration', 'price', 'type', 'zone']\n\n\tWrong: 9\n\n\tCombination: (7, 'departure date')\n\n\tSo far: ['zone', 'zone', 'zone', 'departure location', 'arrival platform', 'duration', 'price', 'type', 'zone']\n\n\tWrong: 9\n\n\tCombination: (7, 'arrival location')\n\n\tSo far: ['zone', 'zone', 'zone', 'arrival platform', 'duration', 'price', 'type', 'zone']\n\n\tWrong: 8\n\n\tCombination: (7, 'arrival station')\n\n\tSo far: ['zone', 'zone', 'zone', 'arrival platform', 'duration', 'price', 'type', 'zone']\n\n\tWrong: 8\n\n\tCombination: (7, 'arrival platform')\n\n\tSo far: ['zone', 'zone', 'zone', 'arrival station', 'arrival platform', 'duration', 'price', 'type', 'zone']\n\n\tWrong: 9\n\n\tCombination: (7, 'duration')\n\n\tSo far: ['zone', 'zone', 'zone', 'arrival platform', 'duration', 'price', 'type', 'zone']\n\n\tWrong: 8\n\n\tCombination: (7, 'price')\n\n\tSo far: ['zone', 'zone', 'zone', 'duration', 'arrival platform', 'duration', 'price', 'type', 'zone']\n\n\tWrong: 9\n\n\tCombination: (7, 'type')\n\n\tSo far: ['zone', 'zone', 'zone', 'price', 'arrival platform', 'duration', 'price', 'type', 'zone']\n\n\tWrong: 9\n\n\tCombination: (7, 'zone')\n\n\tSo far: ['zone', 'zone', 'zone', 'type', 'arrival platform', 'duration', 'price', 'type', 'zone']\n\n\tWrong: 9\n\n\tCombination: (8, 'departure location')\n\n\tSo far: ['zone', 'zone', 'zone', 'zone', 'arrival platform', 'duration', 'price', 'type', 'zone']\n\n\tWrong: 9\n\n\tCombination: (8, 'departure date')\n\n\tSo far: ['zone', 'zone', 'zone', 'zone', 'departure location', 'duration', 'price', 'type', 'zone']\n\n\tWrong: 9\n\n\tCombination: (8, 'arrival location')\n\n\tSo far: ['zone', 'zone', 'zone', 'zone', 'departure date', 'duration', 'price', 'type', 'zone']\n\n\tWrong: 9\n\n\tCombination: (8, 'arrival station')\n\n\tSo far: ['zone', 'zone', 'zone', 'zone', 'arrival location', 'duration', 'price', 'type', 'zone']\n\n\tWrong: 9\n\n\tCombination: (8, 'arrival platform')\n\n\tSo far: ['zone', 'zone', 'zone', 'zone', 'arrival station', 'duration', 'price', 'type', 'zone']\n\n\tWrong: 9\n\n\tCombination: (8, 'duration')\n\n\tSo far: ['zone', 'zone', 'zone', 'zone', 'arrival platform', 'duration', 'price', 'type', 'zone']\n\n\tWrong: 9\n\n\tCombination: (8, 'price')\n\n\tSo far: ['zone', 'zone', 'zone', 'zone', 'duration', 'duration', 'price', 'type', 'zone']\n\n\tWrong: 9\n\n\tCombination: (8, 'type')\n\n\tSo far: ['zone', 'zone', 'zone', 'zone', 'price', 'duration', 'price', 'type', 'zone']\n\n\tWrong: 9\n\n\tCombination: (8, 'zone')\n\n\tSo far: ['zone', 'zone', 'zone', 'zone', 'type', 'duration', 'price', 'type', 'zone']\n\n\tWrong: 9\n\n\tCombination: (11, 'departure location')\n\n\tSo far: ['zone', 'zone', 'zone', 'zone', 'zone', 'duration', 'price', 'type', 'zone']\n\n\tWrong: 9\n\n\tCombination: (11, 'departure date')\n\n\tSo far: ['zone', 'zone', 'zone', 'zone', 'zone', 'price', 'type', 'zone']\n\n\tWrong: 8\n\n\tCombination: (11, 'arrival location')\n\n\tSo far: ['zone', 'zone', 'zone', 'zone', 'zone', 'departure date', 'price', 'type', 'zone']\n\n\tWrong: 9\n\n\tCombination: (11, 'arrival station')\n\n\tSo far: ['zone', 'zone', 'zone', 'zone', 'zone', 'price', 'type', 'zone']\n\n\tWrong: 8\n\n\tCombination: (11, 'arrival platform')\n\n\tSo far: ['zone', 'zone', 'zone', 'zone', 'zone', 'arrival station', 'price', 'type', 'zone']\n\n\tWrong: 9\n\n\tCombination: (11, 'duration')\n\n\tSo far: ['zone', 'zone', 'zone', 'zone', 'zone', 'arrival platform', 'price', 'type', 'zone']\n\n\tWrong: 9\n\n\tCombination: (11, 'price')\n\n\tSo far: ['zone', 'zone', 'zone', 'zone', 'zone', 'duration', 'price', 'type', 'zone']\n\n\tWrong: 9\n\n\tCombination: (11, 'type')\n\n\tSo far: ['zone', 'zone', 'zone', 'zone', 'zone', 'price', 'price', 'type', 'zone']\n\n\tWrong: 9\n\n\tCombination: (11, 'zone')\n\n\tSo far: ['zone', 'zone', 'zone', 'zone', 'zone', 'type', 'price', 'type', 'zone']\n\n\tWrong: 9\n\n\tCombination: (12, 'departure location')\n\n\tSo far: ['zone', 'zone', 'zone', 'zone', 'zone', 'zone', 'price', 'type', 'zone']\n\n\tWrong: 9\n\n\tCombination: (12, 'departure date')\n\n\tSo far: ['zone', 'zone', 'zone', 'zone', 'zone', 'zone', 'departure location', 'type', 'zone']\n\n\tWrong: 9\n\n\tCombination: (12, 'arrival location')\n\n\tSo far: ['zone', 'zone', 'zone', 'zone', 'zone', 'zone', 'departure date', 'type', 'zone']\n\n\tWrong: 9\n\n\tCombination: (12, 'arrival station')\n\n\tSo far: ['zone', 'zone', 'zone', 'zone', 'zone', 'zone', 'arrival location', 'type', 'zone']\n\n\tWrong: 9\n\n\tCombination: (12, 'arrival platform')\n\n\tSo far: ['zone', 'zone', 'zone', 'zone', 'zone', 'zone', 'arrival station', 'type', 'zone']\n\n\tWrong: 9\n\n\tCombination: (12, 'duration')\n\n\tSo far: ['zone', 'zone', 'zone', 'zone', 'zone', 'zone', 'arrival platform', 'type', 'zone']\n\n\tWrong: 9\n\n\tCombination: (12, 'price')\n\n\tSo far: ['zone', 'zone', 'zone', 'zone', 'zone', 'zone', 'duration', 'type', 'zone']\n\n\tWrong: 9\n\n\tCombination: (12, 'type')\n\n\tSo far: ['zone', 'zone', 'zone', 'zone', 'zone', 'zone', 'price', 'type', 'zone']\n\n\tWrong: 9\n\n\tCombination: (12, 'zone')\n\n\tSo far: ['zone', 'zone', 'zone', 'zone', 'zone', 'zone', 'type', 'type', 'zone']\n\n\tWrong: 9\n\n\tCombination: (17, 'departure location')\n\n\tSo far: ['zone', 'zone', 'zone', 'zone', 'zone', 'zone', 'zone', 'type', 'zone']\n\n\tWrong: 9\n\n\tCombination: (17, 'departure date')\n\n\tSo far: ['zone', 'zone', 'zone', 'zone', 'zone', 'zone', 'zone', 'zone']\n\n\tWrong: 8\n\n\tCombination: (17, 'arrival location')\n\n\tSo far: ['zone', 'zone', 'zone', 'zone', 'zone', 'zone', 'zone', 'zone']\n\n\tWrong: 8\n\n\tCombination: (17, 'arrival station')\n\n\tSo far: ['zone', 'zone', 'zone', 'zone', 'zone', 'zone', 'zone', 'arrival location', 'zone']\n\n\tWrong: 9\n\n\tCombination: (17, 'arrival platform')\n\n\tSo far: ['zone', 'zone', 'zone', 'zone', 'zone', 'zone', 'zone', 'arrival station', 'zone']\n\n\tWrong: 9\n\n\tCombination: (17, 'duration')\n\n\tSo far: ['zone', 'zone', 'zone', 'zone', 'zone', 'zone', 'zone', 'zone']\n\n\tWrong: 8\n\n\tCombination: (17, 'price')\n\n\tSo far: ['zone', 'zone', 'zone', 'zone', 'zone', 'zone', 'zone', 'duration', 'zone']\n\n\tWrong: 9\n\n\tCombination: (17, 'type')\n\n\tSo far: ['zone', 'zone', 'zone', 'zone', 'zone', 'zone', 'zone', 'price', 'zone']\n\n\tWrong: 9\n\n\tCombination: (17, 'zone')\n\n\tSo far: ['zone', 'zone', 'zone', 'zone', 'zone', 'zone', 'zone', 'type', 'zone']\n\n\tWrong: 9\n\n\tCombination: (19, 'departure location')\n\n\tSo far: ['zone', 'zone', 'zone', 'zone', 'zone', 'zone', 'zone', 'zone', 'zone']\n\n\tWrong: 9\n\n\tCombination: (19, 'departure date')\n\n\tSo far: ['zone', 'zone', 'zone', 'zone', 'zone', 'zone', 'zone', 'zone', 'departure location']\n\n\tWrong: 9\n\n\tCombination: (19, 'arrival location')\n\n\tSo far: ['zone', 'zone', 'zone', 'zone', 'zone', 'zone', 'zone', 'zone', 'departure date']\n\n\tWrong: 9\n\n\tCombination: (19, 'arrival station')\n\n\tSo far: ['zone', 'zone', 'zone', 'zone', 'zone', 'zone', 'zone', 'zone', 'arrival location']\n\n\tWrong: 9\n\n\tCombination: (19, 'arrival platform')\n\n\tSo far: ['zone', 'zone', 'zone', 'zone', 'zone', 'zone', 'zone', 'zone', 'arrival station']\n\n\tWrong: 9\n\n\tCombination: (19, 'duration')\n\n\tSo far: ['zone', 'zone', 'zone', 'zone', 'zone', 'zone', 'zone', 'zone', 'arrival platform']\n\n\tWrong: 9\n\n\tCombination: (19, 'price')\n\n\tSo far: ['zone', 'zone', 'zone', 'zone', 'zone', 'zone', 'zone', 'zone', 'duration']\n\n\tWrong: 9\n\n\tCombination: (19, 'type')\n\n\tSo far: ['zone', 'zone', 'zone', 'zone', 'zone', 'zone', 'zone', 'zone', 'price']\n\n\tWrong: 9\n\n\tCombination: (19, 'zone')\n\n\tSo far: ['zone', 'zone', 'zone', 'zone', 'zone', 'zone', 'zone', 'zone', 'type']\n\n\tWrong: 9\n(['zone', 'departure station', 'departure platform', 'departure track', 'zone', 'departure time', 'zone', 'zone', 'zone', 'arrival track', 'class', 'zone', 'zone', 'route', 'row', 'seat', 'train', 'zone', 'wagon', 'zone'], ['zone', 'zone', 'zone', 'zone', 'zone', 'zone', 'zone', 'zone', 'zone'], [0, 4, 6, 7, 8, 11, 12, 17, 19], array([False,  True,  True,  True, False,  True, False, False, False,\n        True,  True, False, False,  True,  True,  True,  True, False,\n        True, False]))\n"
     ]
    }
   ],
   "source": [
    "x= shuffleSort(valid_tickets, constraints)"
   ]
  }
 ]
}