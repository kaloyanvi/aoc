{
 "metadata": {
  "language_info": {
   "codemirror_mode": {
    "name": "ipython",
    "version": 3
   },
   "file_extension": ".py",
   "mimetype": "text/x-python",
   "name": "python",
   "nbconvert_exporter": "python",
   "pygments_lexer": "ipython3",
   "version": "3.8.6-final"
  },
  "orig_nbformat": 2,
  "kernelspec": {
   "name": "python3",
   "display_name": "Python 3",
   "language": "python"
  }
 },
 "nbformat": 4,
 "nbformat_minor": 2,
 "cells": [
  {
   "cell_type": "code",
   "execution_count": 23,
   "metadata": {
    "tags": []
   },
   "outputs": [],
   "source": [
    "with open('input.txt') as f:\n",
    "    all_lines = [line.strip() for line in f.readlines()]\n",
    "\n",
    "    constraints = all_lines[:20]\n",
    "    my_ticket = all_lines[22:23]\n",
    "    nearby_tickets = all_lines[25:]"
   ]
  },
  {
   "cell_type": "code",
   "execution_count": 26,
   "metadata": {},
   "outputs": [
    {
     "output_type": "stream",
     "name": "stdout",
     "text": [
      "['departure location', ' 47-874 or 885-960']\n['departure station', ' 25-616 or 622-964']\n['departure platform', ' 42-807 or 825-966']\n['departure track', ' 36-560 or 583-965']\n['departure date', ' 37-264 or 289-968']\n['departure time', ' 27-325 or 346-954']\n['arrival location', ' 37-384 or 391-950']\n['arrival station', ' 35-233 or 244-963']\n['arrival platform', ' 26-652 or 675-949']\n['arrival track', ' 41-689 or 710-954']\n['class', ' 27-75 or 81-952']\n['duration', ' 45-784 or 807-967']\n['price', ' 40-350 or 374-970']\n['route', ' 30-892 or 904-968']\n['row', ' 47-144 or 151-957']\n['seat', ' 28-750 or 773-973']\n['train', ' 30-456 or 475-950']\n['type', ' 34-642 or 648-968']\n['wagon', ' 42-486 or 498-970']\n['zone', ' 37-152 or 167-973']\n"
     ]
    }
   ],
   "source": [
    "for constraint in constraints:\n",
    "    \n",
    "    print(i for i in constraint.split(\": \"))"
   ]
  },
  {
   "cell_type": "code",
   "execution_count": null,
   "metadata": {},
   "outputs": [],
   "source": [
    "[int(id) for id in f.readline().strip().split(\",\") if id != \"x\"]"
   ]
  }
 ]
}